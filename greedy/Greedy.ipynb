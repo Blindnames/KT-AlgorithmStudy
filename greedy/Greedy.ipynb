{
 "cells": [
  {
   "cell_type": "markdown",
   "id": "eff2f9b8",
   "metadata": {},
   "source": [
    "# 그리디"
   ]
  },
  {
   "cell_type": "markdown",
   "id": "2c1a5eac-7bf7-4e8b-8506-a42b28c9629c",
   "metadata": {},
   "source": [
    "## part 2"
   ]
  },
  {
   "cell_type": "markdown",
   "id": "648223b3",
   "metadata": {},
   "source": [
    "### 당장 좋은 것만 선택하는 그리디"
   ]
  },
  {
   "cell_type": "code",
   "execution_count": 30,
   "id": "1c625c99",
   "metadata": {},
   "outputs": [
    {
     "name": "stdout",
     "output_type": "stream",
     "text": [
      "1590\n"
     ]
    }
   ],
   "source": [
    "n = 1260\n",
    "count = 0 \n",
    "\n",
    "coin_types = [500,100,50,10]\n",
    "\n",
    "for coin in coin_types:\n",
    "    count+= n \n",
    "    n%=coin\n",
    "\n",
    "print(count)"
   ]
  },
  {
   "cell_type": "markdown",
   "id": "6fc53cc8",
   "metadata": {},
   "source": [
    "### Q1 ) 큰 수의 법칙"
   ]
  },
  {
   "cell_type": "markdown",
   "id": "2d7cbac1-8094-44ff-a83d-34459d2794d4",
   "metadata": {},
   "source": [
    "sorted(), sort()\n",
    "\n",
    "수열로 접근 하기에는 k가 m 보다 작다는 조건이 없다"
   ]
  },
  {
   "cell_type": "code",
   "execution_count": 7,
   "id": "44b697c5",
   "metadata": {},
   "outputs": [
    {
     "name": "stdin",
     "output_type": "stream",
     "text": [
      " 5 8 3\n",
      " 2 4 5 4 6\n"
     ]
    },
    {
     "name": "stdout",
     "output_type": "stream",
     "text": [
      "46\n"
     ]
    }
   ],
   "source": [
    "n , m , k = map(int,input().split())\n",
    "\n",
    "data = list(map(int,input().split()))\n",
    "data.sort()\n",
    "\n",
    "cnt_ = 0 # 전체 더하기 횟수\n",
    "cnt = 0 # 큰수 더하기 제한 횟수\n",
    "sum = 0\n",
    "\n",
    "while(cnt_ < m):\n",
    "    if(cnt < k):\n",
    "        sum += data[n-1]\n",
    "        cnt +=1\n",
    "        cnt_ +=1\n",
    "    else:\n",
    "        sum +=data[n-2]\n",
    "        cnt = 0\n",
    "        cnt_ +=1\n",
    "\n",
    "print(sum)"
   ]
  },
  {
   "cell_type": "markdown",
   "id": "2835c65c-3d09-4559-88af-44a49ac0e03b",
   "metadata": {},
   "source": [
    "### Q2 ) 숫자 카드 게임"
   ]
  },
  {
   "cell_type": "markdown",
   "id": "72cbbfe5-7328-472f-96e6-d02465676bc8",
   "metadata": {},
   "source": [
    "2차원 행렬 입력\n",
    "\n",
    "각 행의 최솟값 sort\n",
    "\n",
    "최솟값 중의 가장 큰 값 "
   ]
  },
  {
   "cell_type": "code",
   "execution_count": 26,
   "id": "7c5be9ac-54e0-480e-9c7d-3e7a862ce70c",
   "metadata": {},
   "outputs": [
    {
     "name": "stdin",
     "output_type": "stream",
     "text": [
      " 2 4\n",
      " 7 3 1 8\n",
      " 3 3 3 4\n"
     ]
    },
    {
     "name": "stdout",
     "output_type": "stream",
     "text": [
      "3\n"
     ]
    }
   ],
   "source": [
    "\n",
    "n, m = map(int, input().split())\n",
    "\n",
    "data = []\n",
    "\n",
    "for i in range(n):\n",
    "    data.append(list(map(int,input().split())))\n",
    "\n",
    "li = [] # 행들의 최솟값 넣을 리스트\n",
    "for i in range (n):\n",
    "    data[i].sort()\n",
    "    li.append(data[i][0]) # 행 마다 최솟값 넣기\n",
    "    \n",
    "li.sort()\n",
    "print(li[n-1])"
   ]
  },
  {
   "cell_type": "markdown",
   "id": "2276fc85-9c2d-4805-ab2a-55e2c7bde83e",
   "metadata": {},
   "source": [
    "### Q3 ) 1이 될 떄까지"
   ]
  },
  {
   "cell_type": "markdown",
   "id": "9cc9c69a-64ec-4a02-9ba0-6d154beed4f1",
   "metadata": {},
   "source": [
    "나누어 떨어지는 수를 구해서 한 번에 뺸다면 수가 커졌을 때 효율성을 높일 수 있음"
   ]
  },
  {
   "cell_type": "code",
   "execution_count": 29,
   "id": "a6940d7d-e26d-4734-9df4-4408442ac78b",
   "metadata": {},
   "outputs": [
    {
     "name": "stdin",
     "output_type": "stream",
     "text": [
      " 7 2\n"
     ]
    },
    {
     "name": "stdout",
     "output_type": "stream",
     "text": [
      "4\n"
     ]
    }
   ],
   "source": [
    "n , k = map(int , input().split())\n",
    "\n",
    "cnt = 0\n",
    "while(n!=1):\n",
    "    if(n % k ==0):\n",
    "        n /=k\n",
    "        cnt+=1\n",
    "    else:\n",
    "        n -= 1\n",
    "        cnt +=1\n",
    "        \n",
    "print(cnt)      \n",
    "        \n",
    "    "
   ]
  },
  {
   "cell_type": "markdown",
   "id": "7afbf5ce-98c3-4d84-bad8-33ca874480dd",
   "metadata": {},
   "source": [
    "## part 3"
   ]
  },
  {
   "cell_type": "markdown",
   "id": "92fa4dac-1b20-466c-8557-109792ec7c82",
   "metadata": {},
   "source": [
    "### Q1 ) 모험가 길드(x)"
   ]
  },
  {
   "cell_type": "markdown",
   "id": "841f1d81-ce42-438f-8aef-c213a75e8759",
   "metadata": {},
   "source": []
  },
  {
   "cell_type": "code",
   "execution_count": 2,
   "id": "34d27f55-b779-4223-bef4-a319582d3b72",
   "metadata": {},
   "outputs": [
    {
     "name": "stdin",
     "output_type": "stream",
     "text": [
      " 5\n",
      " 1 2 3 2 2\n"
     ]
    },
    {
     "name": "stdout",
     "output_type": "stream",
     "text": [
      "2\n"
     ]
    }
   ],
   "source": [
    "n = int(input())\n",
    "data = list(map(int,input().split()))\n",
    "\n",
    "data.sort()\n",
    "\n",
    "count = 0\n",
    "result = 0\n",
    "\n",
    "for i in data:\n",
    "    count+=1\n",
    "    if(count >= i):\n",
    "        result +=1\n",
    "        count = 0\n",
    "print(result)\n"
   ]
  },
  {
   "cell_type": "code",
   "execution_count": 6,
   "id": "4713aab8-df07-4865-b18f-5c0d29b16b56",
   "metadata": {},
   "outputs": [
    {
     "name": "stdin",
     "output_type": "stream",
     "text": [
      " 5\n",
      " 1 3 2 2 2\n"
     ]
    },
    {
     "ename": "IndexError",
     "evalue": "deque index out of range",
     "output_type": "error",
     "traceback": [
      "\u001b[1;31m---------------------------------------------------------------------------\u001b[0m",
      "\u001b[1;31mIndexError\u001b[0m                                Traceback (most recent call last)",
      "Cell \u001b[1;32mIn[6], line 12\u001b[0m\n\u001b[0;32m      8\u001b[0m cnt\u001b[38;5;241m=\u001b[39m\u001b[38;5;241m0\u001b[39m\n\u001b[0;32m     11\u001b[0m \u001b[38;5;28;01mfor\u001b[39;00m _ \u001b[38;5;129;01min\u001b[39;00m \u001b[38;5;28mrange\u001b[39m(n):\n\u001b[1;32m---> 12\u001b[0m     \u001b[38;5;28;01mif\u001b[39;00m(data[\u001b[38;5;241m0\u001b[39m] \u001b[38;5;241m>\u001b[39m \u001b[38;5;28mlen\u001b[39m(data)):\u001b[38;5;28;01mbreak\u001b[39;00m\n\u001b[0;32m     13\u001b[0m     \u001b[38;5;28;01mfor\u001b[39;00m _ \u001b[38;5;129;01min\u001b[39;00m \u001b[38;5;28mrange\u001b[39m(data[\u001b[38;5;241m0\u001b[39m]):\n\u001b[0;32m     14\u001b[0m         data\u001b[38;5;241m.\u001b[39mpopleft()\n",
      "\u001b[1;31mIndexError\u001b[0m: deque index out of range"
     ]
    }
   ],
   "source": [
    "from collections import deque\n",
    "\n",
    "n = int(input())\n",
    "data = list(map(int,input().split()))\n",
    "\n",
    "data.sort()\n",
    "data = deque(data)\n",
    "cnt=0\n",
    "\n",
    "\n",
    "for _ in range(n):\n",
    "    if(data[0] > len(data)):break # 첫 번째 원소가 데이터 개수보다 크면 종료\n",
    "    for _ in range(data[0]):\n",
    "        data.popleft() # 첫 번째 원소만큼 데이터 제거\n",
    "    cnt +=1 # 반복문 종료 후 수 세기\n",
    "    \n",
    "print(cnt)"
   ]
  },
  {
   "cell_type": "code",
   "execution_count": 3,
   "id": "c76e0efd-7cd3-452a-a34e-0e2ede8a0991",
   "metadata": {},
   "outputs": [
    {
     "name": "stdout",
     "output_type": "stream",
     "text": [
      "<class 'int'>\n"
     ]
    }
   ],
   "source": [
    "from collections import deque\n",
    "\n",
    "data= deque([2,3,4])\n",
    "\n",
    "data.popleft()\n",
    "print(type(data[0]))"
   ]
  },
  {
   "cell_type": "markdown",
   "id": "1b7bdeba-1058-4cc6-bd98-1fa3e94d40ae",
   "metadata": {},
   "source": [
    "### Q2 ) 곱하기 혹은 더하기"
   ]
  },
  {
   "cell_type": "markdown",
   "id": "47dae61b-f4d0-4909-9ace-26eac4cda949",
   "metadata": {},
   "source": [
    "첫번쨰의 0 과1은 더해야 한다"
   ]
  },
  {
   "cell_type": "code",
   "execution_count": 5,
   "id": "13cbddfb-29c0-40a8-8874-9670ad2f7e0a",
   "metadata": {},
   "outputs": [
    {
     "name": "stdin",
     "output_type": "stream",
     "text": [
      " 000121501\n"
     ]
    },
    {
     "name": "stdout",
     "output_type": "stream",
     "text": [
      "16\n"
     ]
    }
   ],
   "source": [
    "n = input()\n",
    "data = [0] * len(n)\n",
    "\n",
    "for i in range(len(n)):\n",
    "    data[i] = int(n[i])\n",
    "    \n",
    "sum = 0\n",
    "for i in range(len(data)):\n",
    "    if(data[i] <= 1): # 0과 1 이면 더하기\n",
    "        sum += data[i]\n",
    "    else:\n",
    "        if(sum == 0): # 나머지 수는 이전 값들의 합이 0이면 더하고 아니면 곱하기\n",
    "            sum += data[i]\n",
    "        else:\n",
    "            sum *= data[i]\n",
    "\n",
    "print(sum)"
   ]
  },
  {
   "cell_type": "markdown",
   "id": "b56d5d1b-ac99-4a07-942c-978216fab473",
   "metadata": {},
   "source": [
    "### Q3 ) 문자열 뒤집기"
   ]
  },
  {
   "cell_type": "markdown",
   "id": "1eaf4eaf-e32b-47ae-b0b3-81949655749f",
   "metadata": {},
   "source": [
    "다른 숫자가 나올 떄마다 cnt++\n",
    "\n",
    "cnt -1 이 뒤집는 횟수"
   ]
  },
  {
   "cell_type": "code",
   "execution_count": 1,
   "id": "7dc614cd-14f9-458e-ac84-b8b06d7f1031",
   "metadata": {},
   "outputs": [
    {
     "name": "stdin",
     "output_type": "stream",
     "text": [
      " 000000\n"
     ]
    },
    {
     "name": "stdout",
     "output_type": "stream",
     "text": [
      "0\n"
     ]
    }
   ],
   "source": [
    "n = input()\n",
    "data = [0] * len(n) \n",
    "\n",
    "for i in range(len(n)):\n",
    "    data[i] = int(n[i])\n",
    "\n",
    "cnt = 0\n",
    "for i in range(1,len(data)):\n",
    "    if(data[i-1] != data[i]): cnt += 1\n",
    "    \n",
    "# cnt 바뀌는 횟 수 \n",
    "# (2)(2) -- > 4번 바뀌면 4개의 모임이 있다 ----> 두번 뒤집으면 된다\n",
    "# (2)(2)(1)-- > 5번 바뀌면 3개의 모임이 있다 ----> 두번 뒤집으면 된다\n",
    "result = cnt/2 if cnt%2 == 0 else cnt//2\n",
    "\n",
    "print(int(result))"
   ]
  },
  {
   "cell_type": "markdown",
   "id": "052a3f9a-eab7-4352-90fa-6af3a496e22b",
   "metadata": {},
   "source": [
    "### Q4 ) 만들 수 없는 금액"
   ]
  },
  {
   "cell_type": "markdown",
   "id": "88f36c99-e1e7-4d2a-bb27-22acdbbcffae",
   "metadata": {},
   "source": [
    "조합 구하고 각 조합들의 합 구해서 리스트에 저장  -->수 커지면 연산량 너무 많다\n",
    "\n",
    "1이 없으면 답은 무조건 1\n",
    "2부터는.. (1,1)\n",
    "\n",
    "* 내장함수는 내장함수() 의 형식으로 사용 (sum min sorted eval)\n",
    "\n"
   ]
  },
  {
   "cell_type": "code",
   "execution_count": 1,
   "id": "0441d684-3de0-4246-a95f-a122eb5222b4",
   "metadata": {},
   "outputs": [
    {
     "name": "stdin",
     "output_type": "stream",
     "text": [
      " 5\n",
      " 3 2 1 1 9\n"
     ]
    },
    {
     "name": "stdout",
     "output_type": "stream",
     "text": [
      "8\n"
     ]
    }
   ],
   "source": [
    "from itertools import combinations\n",
    "\n",
    "n = int(input())\n",
    "data = list(map(int,input().split()))\n",
    "\n",
    "r = [] # 정답의 후보군 나중에 조합들의 합 리스트에 후보군이 들어 있지 않다면 답으로 간주\n",
    "data.sort(reverse =True)\n",
    "for i in range(1,data[0]):# 제일 큰 수만 여러번 입력 받을 수 있기에 제일 큰 수는 후보군에서 제외\n",
    "    r.append(i)\n",
    "    \n",
    "\n",
    "answer = []\n",
    "for j in range(1,n+1):\n",
    "    result = list(combinations(data,j)) # 입력받은 수의 모든 조합을 구한다\n",
    "    for k in range(len(result)):\n",
    "        answer.append(sum(result[k])) # 그 조합들의 합을 정답 리스트에 담는다\n",
    "        \n",
    "for i in r:\n",
    "    if i not in answer: # 리스트에 수가 존재 하지 않으면 출력\n",
    "        print(i)\n",
    "        break\n",
    "\n"
   ]
  },
  {
   "cell_type": "markdown",
   "id": "fe926bc3-4adf-44c6-af80-f93dfb3162ad",
   "metadata": {},
   "source": [
    "### Q5 ) 볼링공 고르기"
   ]
  },
  {
   "cell_type": "markdown",
   "id": "c91cc829-bf93-48b8-9ed9-85e37e0a0354",
   "metadata": {},
   "source": [
    "조합 구하고 리스트에 같은 원소끼리의 조합들 뺸다"
   ]
  },
  {
   "cell_type": "code",
   "execution_count": 3,
   "id": "e4193460-fa04-4b46-b89b-179f1800362b",
   "metadata": {},
   "outputs": [
    {
     "name": "stdin",
     "output_type": "stream",
     "text": [
      " 5 3\n",
      " 1 3 2 3 2\n"
     ]
    },
    {
     "name": "stdout",
     "output_type": "stream",
     "text": [
      "8\n"
     ]
    }
   ],
   "source": [
    "from itertools import combinations_with_replacement\n",
    "\n",
    "a , b = map(int,input().split())\n",
    "data = list(map(int,input().split()))\n",
    "\n",
    "result = list(combinations_with_replacement(data,2))\n",
    "\n",
    "n = []\n",
    "# print(result)\n",
    "for i in range(len(result)):\n",
    "    s = sum(result[i])\n",
    "    if(result[i] == (s/2,s/2)):\n",
    "        n.append(result[i]) #중요!! result에서 바로 pop을 하면 배열의 범위 오류가 나기 때문에 다른 배열에 집어 넣고 갯수 계산!!!!\n",
    "        \n",
    "print(len(result)-len(n))\n"
   ]
  },
  {
   "cell_type": "markdown",
   "id": "1b7f486a-21d2-41fc-99a7-2a8be8564dd7",
   "metadata": {},
   "source": [
    "### Q6 ) 무지의 먹방 라이브 "
   ]
  },
  {
   "cell_type": "markdown",
   "id": "a2bf2eb4-d26a-4d0a-af86-a3e80afd2447",
   "metadata": {},
   "source": []
  },
  {
   "cell_type": "code",
   "execution_count": null,
   "id": "81e81e60-dfab-458e-b9ca-cd51dc87cdf5",
   "metadata": {},
   "outputs": [],
   "source": []
  }
 ],
 "metadata": {
  "kernelspec": {
   "display_name": "Python 3 (ipykernel)",
   "language": "python",
   "name": "python3"
  },
  "language_info": {
   "codemirror_mode": {
    "name": "ipython",
    "version": 3
   },
   "file_extension": ".py",
   "mimetype": "text/x-python",
   "name": "python",
   "nbconvert_exporter": "python",
   "pygments_lexer": "ipython3",
   "version": "3.9.13"
  }
 },
 "nbformat": 4,
 "nbformat_minor": 5
}
