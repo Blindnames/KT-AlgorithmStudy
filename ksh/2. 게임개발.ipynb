{
 "cells": [
  {
   "cell_type": "code",
   "execution_count": 9,
   "id": "2dbac8da-d58b-4ac1-8d02-a30264a7bce7",
   "metadata": {},
   "outputs": [
    {
     "name": "stdin",
     "output_type": "stream",
     "text": [
      " 4 4\n",
      " 1 1 0\n",
      " 1 1 1 1\n",
      " 1 0 0 1\n",
      " 1 1 0 1\n",
      " 1 1 1 1\n"
     ]
    },
    {
     "name": "stdout",
     "output_type": "stream",
     "text": [
      "3\n"
     ]
    }
   ],
   "source": [
    "n , m = map(int,input().split())\n",
    "a , b , d = map(int,input().split())\n",
    "data = [] * m\n",
    "\n",
    "for i in range(n):\n",
    "    li = list(map(int,input().split()))\n",
    "    data.append(li)\n",
    "\n",
    "data[a][b] = 2\n",
    "# print(data)\n",
    "\n",
    "dx = [-1,0,1,0] # 북 동 남 서 방향이 회전 했을 때 움직이는 칸\n",
    "dy = [0,1,0,-1]\n",
    "\n",
    "def turn_left():\n",
    "    global d # 전역 변수 선언\n",
    "    d -= 1 # 왼쪽으로 회전\n",
    "    if d == -1:\n",
    "        d = 3\n",
    "\n",
    "count = 1 \n",
    "turn_time = 0\n",
    "while True:\n",
    "    # 1단계 90도 회전\n",
    "    turn_left()\n",
    "    # 2단계 한칸 전진\n",
    "    nx = a + dx[d] \n",
    "    ny = b + dy[d]\n",
    "    # 이미 가본 곳이거나 바다라면?\n",
    "    if(data[nx][ny] == 2 or data[nx][ny] ==1):\n",
    "        turn_time +=1\n",
    "    else:\n",
    "        a = nx\n",
    "        b = ny\n",
    "        data[a][b] = 2\n",
    "        count += 1\n",
    "        turn_time = 0\n",
    "        continue\n",
    "    if turn_time ==4: \n",
    "       # 방향을 유지한 채 뒤로간다는 의미 => 전진하려고 했던 걸 빼면 된다\n",
    "        nx = a - dx[d]\n",
    "        ny = b - dx[d] \n",
    "        # 뒤로 갈 수 있으면\n",
    "        if data[nx][ny] == 0 or data[nx][ny] == 2: # 뒤로 갔을 때 육지인 경우\n",
    "            a = nx\n",
    "            b = ny\n",
    "        else:\n",
    "            break\n",
    "        turn_time = 0\n",
    "        \n",
    "print(count)"
   ]
  },
  {
   "cell_type": "markdown",
   "id": "2c590408-bea2-4b04-857c-69812c1b0b1f",
   "metadata": {},
   "source": [
    "1단계) 왼쪽으로 90도 회전 (방향 설정)\n",
    "\n",
    "2단계) 한 칸 전진--->(이미 가본 곳이라면?)----> 1단계---->(1단계가 4번 호출되면?)----->3단계\n",
    "\n",
    "3단계) 한 칸 후진--->(뒤쪽이 바다라면?)---->종료\n",
    "               ---->(육지라면?) ---> 1단계\n",
    "\n",
    "한 번 가본 곳은 2로 표시한다(cuz) 3단계에서 바다에서만 루프를 종료할 수 있기에 1로 표시한다면 갈 수 있음에도 종료 )\n",
    "\n",
    "\n",
    "움직임 문제는 방향이나 움직임을 리스트로 정의해서 호출 할 수 있게 만들어 주는 것이 중요하다!!\n"
   ]
  }
 ],
 "metadata": {
  "kernelspec": {
   "display_name": "Python 3 (ipykernel)",
   "language": "python",
   "name": "python3"
  },
  "language_info": {
   "codemirror_mode": {
    "name": "ipython",
    "version": 3
   },
   "file_extension": ".py",
   "mimetype": "text/x-python",
   "name": "python",
   "nbconvert_exporter": "python",
   "pygments_lexer": "ipython3",
   "version": "3.9.13"
  }
 },
 "nbformat": 4,
 "nbformat_minor": 5
}
