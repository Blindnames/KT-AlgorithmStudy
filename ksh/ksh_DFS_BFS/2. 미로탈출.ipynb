{
 "cells": [
  {
   "cell_type": "code",
   "execution_count": 2,
   "id": "fbaa4db2-daf8-4be8-8e8a-deac354522a3",
   "metadata": {},
   "outputs": [
    {
     "name": "stdin",
     "output_type": "stream",
     "text": [
      " 3 3\n",
      " 111\n",
      " 101\n",
      " 001\n"
     ]
    },
    {
     "name": "stdout",
     "output_type": "stream",
     "text": [
      "5\n"
     ]
    }
   ],
   "source": [
    "from collections import deque\n",
    "\n",
    "n,m = map(int,input().split())\n",
    "\n",
    "graph = []\n",
    "for i in range(n):\n",
    "    graph.append(list(map(int,input())))\n",
    "\n",
    "# 왼쪽 오른쪽 아래 위\n",
    "dx = [-1,1,0,0]\n",
    "dy = [0,0,-1,1]\n",
    "\n",
    "def bfs(x,y):\n",
    "    que =deque()\n",
    "    que.append((x,y))\n",
    "    \n",
    "    while que:\n",
    "        x,y = que.popleft()\n",
    "        \n",
    "        for i in range(4):\n",
    "            nx = x + dx[i]\n",
    "            ny = y + dy[i]\n",
    "            \n",
    "            if nx < 0 or ny< 0 or nx>= n or ny >=m:\n",
    "                continue\n",
    "            if graph[nx][ny] == 0:\n",
    "                continue\n",
    "            if graph[nx][ny] == 1:\n",
    "                graph[nx][ny] = graph[x][y] + 1\n",
    "                que.append((nx,ny))\n",
    "    return graph[n-1][m-1]\n",
    "\n",
    "print(bfs(0,0))"
   ]
  },
  {
   "cell_type": "markdown",
   "id": "d90a4030-6a09-4273-b075-08a14355f6c1",
   "metadata": {},
   "source": [
    "2차원 리스트를 입력받고 길은 1 괴물은 0 입력\n",
    "(0,0) ~ (n-1,m-1) 최단경로\n",
    "주변부터 탐색하는 bfs 사용\n",
    "갈 수 있는 길 기존값 +1\n",
    "도착 지점에 도착하면 도착지점 값 반환\n",
    "큐에 튜플을 넣는게 낯설었다"
   ]
  }
 ],
 "metadata": {
  "kernelspec": {
   "display_name": "Python 3 (ipykernel)",
   "language": "python",
   "name": "python3"
  },
  "language_info": {
   "codemirror_mode": {
    "name": "ipython",
    "version": 3
   },
   "file_extension": ".py",
   "mimetype": "text/x-python",
   "name": "python",
   "nbconvert_exporter": "python",
   "pygments_lexer": "ipython3",
   "version": "3.9.13"
  }
 },
 "nbformat": 4,
 "nbformat_minor": 5
}
