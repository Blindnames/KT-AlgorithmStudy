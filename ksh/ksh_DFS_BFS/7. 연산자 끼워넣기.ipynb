{
 "cells": [
  {
   "cell_type": "code",
   "execution_count": 4,
   "id": "6f17b2ec-a2f0-4258-bece-ce20cff9024b",
   "metadata": {},
   "outputs": [
    {
     "name": "stdin",
     "output_type": "stream",
     "text": [
      " 2\n",
      " 5 6\n",
      " 0 0 1 0\n"
     ]
    },
    {
     "name": "stdout",
     "output_type": "stream",
     "text": [
      "30\n",
      "30\n"
     ]
    }
   ],
   "source": [
    "n = int(input())\n",
    "\n",
    "data = list(map(int,input().split()))\n",
    "\n",
    "add,sub,mul,div = map(int,input().split())\n",
    "\n",
    "min_value = 1e9\n",
    "max_value = -1e9\n",
    "\n",
    "def dfs(i,now):\n",
    "    global min_value,max_value,add,sub,mul,div\n",
    "    \n",
    "    if i == n:\n",
    "        min_value = min(min_value,now)\n",
    "        max_value = max(max_value,now)\n",
    "    else:\n",
    "        if add>0:\n",
    "            add -= 1\n",
    "            dfs(i+1 , now + data[i])\n",
    "            add += 1 # 다른 조건문의 재귀함수에서도 add를 사용할 수 있게 +1\n",
    "        if sub>0:\n",
    "            sub -= 1\n",
    "            dfs(i+1 , now - data[i])\n",
    "            sub += 1\n",
    "        if mul>0:\n",
    "            mul -= 1\n",
    "            dfs(i+1 , now * data[i])\n",
    "            mul += 1\n",
    "        if div>0:\n",
    "            div -= 1\n",
    "            dfs(i+1 , int(now / data[i]))\n",
    "            div += 1\n",
    "        \n",
    "dfs (1 , data[0])\n",
    "\n",
    "print(max_value)\n",
    "print(min_value)"
   ]
  },
  {
   "cell_type": "markdown",
   "id": "f2fead29-87d3-472b-a771-0a9b798839f7",
   "metadata": {},
   "source": [
    "중복 순열로 푼다면 매우 간단하게 풀 수 있을 걸로 예상됨\n",
    "\n",
    "재귀함수로 모든 경우의 수를 계산하는 dfs 사용\n",
    "연산자의 순서에 따른 경우의 수도 호출 해주어야 하기에 모든 연산자에 재귀함수 호출(총 4번)\n",
    " "
   ]
  },
  {
   "cell_type": "code",
   "execution_count": 15,
   "id": "35fc92e1-197d-47fa-9888-16e4823e616d",
   "metadata": {},
   "outputs": [
    {
     "name": "stdin",
     "output_type": "stream",
     "text": [
      " 1\n",
      " 1 1\n",
      " 1 2 1 2\n"
     ]
    },
    {
     "name": "stdout",
     "output_type": "stream",
     "text": [
      "4\n",
      "('+',)\n",
      "('--',)\n",
      "('*',)\n",
      "('////',)\n"
     ]
    }
   ],
   "source": [
    "from itertools import product\n",
    "\n",
    "n = int(input())\n",
    "data = list(map(int,input().split()))\n",
    "add,sub,mul,div = map(int,input().split())\n",
    "\n",
    "min_value = 1e9\n",
    "max_value = -1e9\n",
    "\n",
    "# 수열 문자열로 바꿔주고 연산자의 모든 경우의 수 넣어주고 eval 써서 값 뽑기\n",
    "result = 0\n",
    "op = list(product(['+'*add , '-'*sub , '*'*mul , '//'*div],repeat = (n-1)))\n",
    "\n",
    "for i in range(n):\n",
    "    data[i] = str(data[i])\n",
    "    \n",
    "print(len(op))\n",
    "\n",
    "for i in range(len(op)):\n",
    "    print(op[i])"
   ]
  }
 ],
 "metadata": {
  "kernelspec": {
   "display_name": "Python 3 (ipykernel)",
   "language": "python",
   "name": "python3"
  },
  "language_info": {
   "codemirror_mode": {
    "name": "ipython",
    "version": 3
   },
   "file_extension": ".py",
   "mimetype": "text/x-python",
   "name": "python",
   "nbconvert_exporter": "python",
   "pygments_lexer": "ipython3",
   "version": "3.9.13"
  }
 },
 "nbformat": 4,
 "nbformat_minor": 5
}
