{
 "cells": [
  {
   "cell_type": "code",
   "execution_count": 2,
   "id": "16142db0-db41-498e-95b4-5b4452456b28",
   "metadata": {},
   "outputs": [
    {
     "name": "stdin",
     "output_type": "stream",
     "text": [
      " 4 4 2 1\n",
      " 1 2\n",
      " 1 3\n",
      " 2 3\n",
      " 2 4\n"
     ]
    },
    {
     "name": "stdout",
     "output_type": "stream",
     "text": [
      "4\n"
     ]
    }
   ],
   "source": [
    "from collections import deque\n",
    "\n",
    "n,m,k,x = map(int,input().split())\n",
    "graph = [[]for _ in range(n+1)]\n",
    "\n",
    "for _ in range(m):\n",
    "    a ,b = map(int, input().split())\n",
    "    graph[a].append(b)\n",
    "    \n",
    "distance = [-1] *(n+1)\n",
    "distance[x] = 0\n",
    "    \n",
    "q = deque([x])\n",
    "while q :\n",
    "    now = q.popleft()\n",
    "        \n",
    "    for next_node in graph[now]:\n",
    "        if distance[next_node] ==-1:\n",
    "            distance[next_node] = distance[now] + 1\n",
    "            q.append(next_node)\n",
    "            \n",
    "check = False\n",
    "for i in range(1,n+1):\n",
    "    if distance[i] == k:\n",
    "        print(i)\n",
    "        check = True\n",
    "\n",
    "if check == False:\n",
    "    print(-1)\n",
    "    "
   ]
  }
 ],
 "metadata": {
  "kernelspec": {
   "display_name": "Python 3 (ipykernel)",
   "language": "python",
   "name": "python3"
  },
  "language_info": {
   "codemirror_mode": {
    "name": "ipython",
    "version": 3
   },
   "file_extension": ".py",
   "mimetype": "text/x-python",
   "name": "python",
   "nbconvert_exporter": "python",
   "pygments_lexer": "ipython3",
   "version": "3.9.13"
  }
 },
 "nbformat": 4,
 "nbformat_minor": 5
}
