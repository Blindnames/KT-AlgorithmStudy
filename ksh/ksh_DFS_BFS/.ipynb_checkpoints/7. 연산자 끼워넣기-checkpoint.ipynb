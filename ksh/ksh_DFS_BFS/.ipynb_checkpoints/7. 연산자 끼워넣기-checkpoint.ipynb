{
 "cells": [
  {
   "cell_type": "code",
   "execution_count": 4,
   "id": "6f17b2ec-a2f0-4258-bece-ce20cff9024b",
   "metadata": {},
   "outputs": [
    {
     "name": "stdin",
     "output_type": "stream",
     "text": [
      " 2\n",
      " 5 6\n",
      " 0 0 1 0\n"
     ]
    },
    {
     "name": "stdout",
     "output_type": "stream",
     "text": [
      "30\n",
      "30\n"
     ]
    }
   ],
   "source": [
    "n = int(input())\n",
    "\n",
    "data = list(map(int,input().split()))\n",
    "\n",
    "add,sub,mul,div = map(int,input().split())\n",
    "\n",
    "min_value = 1e9\n",
    "max_value = -1e9\n",
    "\n",
    "def dfs(i,now):\n",
    "    global min_value,max_value,add,sub,mul,div\n",
    "    \n",
    "    if i == n:\n",
    "        min_value = min(min_value,now)\n",
    "        max_value = max(max_value,now)\n",
    "    else:\n",
    "        if add>0:\n",
    "            add -= 1\n",
    "            dfs(i+1 , now + data[i])\n",
    "            add += 1 # 다른 조건문의 재귀함수에서도 add를 사용할 수 있게 +1\n",
    "        if sub>0:\n",
    "            sub -= 1\n",
    "            dfs(i+1 , now - data[i])\n",
    "            sub += 1\n",
    "        if mul>0:\n",
    "            mul -= 1\n",
    "            dfs(i+1 , now * data[i])\n",
    "            mul += 1\n",
    "        if div>0:\n",
    "            div -= 1\n",
    "            dfs(i+1 , int(now / data[i]))\n",
    "            div += 1\n",
    "        \n",
    "dfs (1 , data[0])\n",
    "\n",
    "print(max_value)\n",
    "print(min_value)"
   ]
  }
 ],
 "metadata": {
  "kernelspec": {
   "display_name": "Python 3 (ipykernel)",
   "language": "python",
   "name": "python3"
  },
  "language_info": {
   "codemirror_mode": {
    "name": "ipython",
    "version": 3
   },
   "file_extension": ".py",
   "mimetype": "text/x-python",
   "name": "python",
   "nbconvert_exporter": "python",
   "pygments_lexer": "ipython3",
   "version": "3.9.13"
  }
 },
 "nbformat": 4,
 "nbformat_minor": 5
}
