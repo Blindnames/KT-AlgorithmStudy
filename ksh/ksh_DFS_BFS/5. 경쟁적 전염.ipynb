{
 "cells": [
  {
   "cell_type": "code",
   "execution_count": 2,
   "id": "a6a66a95-68d8-4753-9ed5-4b49e409f98f",
   "metadata": {},
   "outputs": [
    {
     "name": "stdin",
     "output_type": "stream",
     "text": [
      " 3 3\n",
      " 1 0 2\n",
      " 0 0 0\n",
      " 3 0 0\n",
      " 2 3 2\n"
     ]
    },
    {
     "name": "stdout",
     "output_type": "stream",
     "text": [
      "3\n"
     ]
    }
   ],
   "source": [
    "from collections import deque\n",
    "\n",
    "n,k = map(int, input().split())\n",
    "\n",
    "graph = []\n",
    "data = []\n",
    "\n",
    "for i in range(n):\n",
    "    graph.append(list(map(int,input().split())))\n",
    "    for j in range(n):\n",
    "        if graph[i][j] != 0:\n",
    "            data.append((graph[i][j],0,i,j))\n",
    "            \n",
    "data.sort()\n",
    "q = deque(data)\n",
    "\n",
    "target_s, target_x,target_y = map(int,input().split())\n",
    "\n",
    "dx = [-1,0,1,0]\n",
    "dy = [0,1,0,-1]\n",
    "\n",
    "while q:\n",
    "    virus, s, x,y = q.popleft()\n",
    "    if s == target_s:\n",
    "        break\n",
    "    \n",
    "    for i in range(4):\n",
    "        nx = x + dx[i]\n",
    "        ny = y + dy[i]\n",
    "        \n",
    "        if 0<=nx and nx < n and 0<=ny and ny <n:\n",
    "            if graph[nx][ny] == 0:\n",
    "                graph[nx][ny] = virus\n",
    "                q.append((virus,s+1,nx,ny))\n",
    "                \n",
    "print(graph[target_x - 1][target_y - 1])"
   ]
  }
 ],
 "metadata": {
  "kernelspec": {
   "display_name": "Python 3 (ipykernel)",
   "language": "python",
   "name": "python3"
  },
  "language_info": {
   "codemirror_mode": {
    "name": "ipython",
    "version": 3
   },
   "file_extension": ".py",
   "mimetype": "text/x-python",
   "name": "python",
   "nbconvert_exporter": "python",
   "pygments_lexer": "ipython3",
   "version": "3.9.13"
  }
 },
 "nbformat": 4,
 "nbformat_minor": 5
}
