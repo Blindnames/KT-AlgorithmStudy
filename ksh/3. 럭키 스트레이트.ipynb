{
 "cells": [
  {
   "cell_type": "code",
   "execution_count": 6,
   "id": "88258bdc-7f48-48f1-8e94-5e547fe1caa6",
   "metadata": {},
   "outputs": [
    {
     "name": "stdin",
     "output_type": "stream",
     "text": [
      " 024567\n"
     ]
    },
    {
     "name": "stdout",
     "output_type": "stream",
     "text": [
      "READY\n"
     ]
    }
   ],
   "source": [
    "data = input()\n",
    "n = len(data)\n",
    "sum1=0\n",
    "sum2=0\n",
    "for i in range(n//2):\n",
    "    sum1 += int(data[i])\n",
    "for i in range(n//2,n):\n",
    "    sum2 += int(data[i])\n",
    "    \n",
    "if sum1 == sum2:\n",
    "    print('LUCKY')\n",
    "else : print('READY')"
   ]
  }
 ],
 "metadata": {
  "kernelspec": {
   "display_name": "Python 3 (ipykernel)",
   "language": "python",
   "name": "python3"
  },
  "language_info": {
   "codemirror_mode": {
    "name": "ipython",
    "version": 3
   },
   "file_extension": ".py",
   "mimetype": "text/x-python",
   "name": "python",
   "nbconvert_exporter": "python",
   "pygments_lexer": "ipython3",
   "version": "3.9.13"
  }
 },
 "nbformat": 4,
 "nbformat_minor": 5
}
