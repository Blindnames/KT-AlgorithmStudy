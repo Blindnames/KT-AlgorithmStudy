{
 "cells": [
  {
   "cell_type": "code",
   "execution_count": 2,
   "id": "03c1103a-a764-43d3-a816-f8bcb5e4a940",
   "metadata": {},
   "outputs": [
    {
     "name": "stdin",
     "output_type": "stream",
     "text": [
      " ababcdcdababcdcd\n"
     ]
    },
    {
     "name": "stdout",
     "output_type": "stream",
     "text": [
      "9\n"
     ]
    }
   ],
   "source": [
    "data = input()\n",
    "\n",
    "answer = len(data)\n",
    "\n",
    "for step in range(1, len(data)//2 +1):\n",
    "    compressed =''\n",
    "    prev = data[0:step]\n",
    "    count = 1\n",
    "    for j in range(step, len(data) , step):\n",
    "        if prev == data[j:j+step]:\n",
    "            count+=1\n",
    "        else:\n",
    "            compressed += str(count) + prev if count >=2 else prev\n",
    "            prev = data[j:j +step]\n",
    "            count = 1\n",
    "    compressed += str(count) +prev if count >=2 else prev\n",
    "    answer = min(answer,len(compressed))\n",
    "print(answer)"
   ]
  }
 ],
 "metadata": {
  "kernelspec": {
   "display_name": "Python 3 (ipykernel)",
   "language": "python",
   "name": "python3"
  },
  "language_info": {
   "codemirror_mode": {
    "name": "ipython",
    "version": 3
   },
   "file_extension": ".py",
   "mimetype": "text/x-python",
   "name": "python",
   "nbconvert_exporter": "python",
   "pygments_lexer": "ipython3",
   "version": "3.9.13"
  }
 },
 "nbformat": 4,
 "nbformat_minor": 5
}
