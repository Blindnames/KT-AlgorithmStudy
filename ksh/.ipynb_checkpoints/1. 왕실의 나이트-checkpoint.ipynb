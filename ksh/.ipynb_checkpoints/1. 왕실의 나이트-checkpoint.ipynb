{
 "cells": [
  {
   "cell_type": "code",
   "execution_count": 14,
   "id": "c8441b18-5934-46ca-81e6-2e38aef51e82",
   "metadata": {},
   "outputs": [
    {
     "name": "stdin",
     "output_type": "stream",
     "text": [
      " c2\n"
     ]
    },
    {
     "name": "stdout",
     "output_type": "stream",
     "text": [
      "6\n"
     ]
    }
   ],
   "source": [
    "n = input().strip()\n",
    "\n",
    "col =n[0]\n",
    "row =int(n[1])\n",
    "\n",
    "if col == 'a': col = 1\n",
    "elif col == 'b': col = 2\n",
    "elif col == 'c': col = 3\n",
    "elif col == 'd': col = 4\n",
    "elif col == 'e': col = 5\n",
    "elif col == 'f': col = 6\n",
    "elif col == 'g': col = 7\n",
    "else: col = 8\n",
    "count = 0\n",
    "x = col\n",
    "y=row    \n",
    "if  1 <= x+2 and x+2 <= 8 and 1 <= y-1 and y-1 <= 8 : count +=1\n",
    "x = col\n",
    "y=row    \n",
    "if  1 <= x+2 and x+2 <= 8 and 1 <= y+1 and y+1 <= 8 : count +=1\n",
    "x = col\n",
    "y=row    \n",
    "if  1 <= x-2 and x-2 <= 8 and 1 <= y-1 and y-1 <= 8 : count +=1\n",
    "x = col\n",
    "y=row    \n",
    "if  1 <= x-2 and x-2 <= 8 and 1 <= y+1 and y+1 <= 8 : count +=1\n",
    "x = col\n",
    "y=row    \n",
    "if  1 <= y+2 and y+2 <= 8 and 1 <= x-1 and x-1 <= 8 : count +=1\n",
    "x = col\n",
    "y=row    \n",
    "if  1 <= y+2 and y+2 <= 8 and 1 <= x+1 and x+1 <= 8 : count +=1\n",
    "x = col\n",
    "y=row    \n",
    "if  1 <= y-2 and y-2 <= 8 and 1 <= x-1 and x-1 <= 8 : count +=1\n",
    "x = col\n",
    "y=row    \n",
    "if  1 <= y-2 and y-2 <= 8 and 1 <= x+1 and x+1 <= 8 : count +=1\n",
    "\n",
    "print(count)"
   ]
  },
  {
   "cell_type": "code",
   "execution_count": 16,
   "id": "b0839b3d-e538-41a0-a4ec-1dbf7618280b",
   "metadata": {},
   "outputs": [
    {
     "name": "stdin",
     "output_type": "stream",
     "text": [
      " a1\n"
     ]
    },
    {
     "data": {
      "text/plain": [
       "(1, 97)"
      ]
     },
     "execution_count": 16,
     "metadata": {},
     "output_type": "execute_result"
    }
   ],
   "source": [
    "n = input().strip()\n",
    "\n",
    "col =int(ord(n[0])) # 아스키 코드로 바꿔주는 메소드 ord()\n",
    "row =int(n[1])\n",
    "row ,col"
   ]
  }
 ],
 "metadata": {
  "kernelspec": {
   "display_name": "Python 3 (ipykernel)",
   "language": "python",
   "name": "python3"
  },
  "language_info": {
   "codemirror_mode": {
    "name": "ipython",
    "version": 3
   },
   "file_extension": ".py",
   "mimetype": "text/x-python",
   "name": "python",
   "nbconvert_exporter": "python",
   "pygments_lexer": "ipython3",
   "version": "3.9.13"
  }
 },
 "nbformat": 4,
 "nbformat_minor": 5
}
