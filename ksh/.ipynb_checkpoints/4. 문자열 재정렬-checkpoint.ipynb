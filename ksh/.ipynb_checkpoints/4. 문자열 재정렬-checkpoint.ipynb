{
 "cells": [
  {
   "cell_type": "code",
   "execution_count": 20,
   "id": "ebf303d6-ea19-442b-91cc-fabdfaaccb86",
   "metadata": {},
   "outputs": [
    {
     "name": "stdin",
     "output_type": "stream",
     "text": [
      " asdf123\n"
     ]
    },
    {
     "name": "stdout",
     "output_type": "stream",
     "text": [
      "adfs6"
     ]
    }
   ],
   "source": [
    "data = input()\n",
    "cha = []\n",
    "sum = 0\n",
    "cnt = 0\n",
    "for i in data:\n",
    "    if i.isalpha():\n",
    "        cha.append(i)\n",
    "    else :\n",
    "        sum += int(i)\n",
    "        cnt +=1\n",
    "cha.sort()\n",
    "\n",
    "if cnt != 0:\n",
    "    cha.append(str(sum))\n",
    "\n",
    "for i in range(len(cha)):\n",
    "    print(cha[i] , end='')"
   ]
  }
 ],
 "metadata": {
  "kernelspec": {
   "display_name": "Python 3 (ipykernel)",
   "language": "python",
   "name": "python3"
  },
  "language_info": {
   "codemirror_mode": {
    "name": "ipython",
    "version": 3
   },
   "file_extension": ".py",
   "mimetype": "text/x-python",
   "name": "python",
   "nbconvert_exporter": "python",
   "pygments_lexer": "ipython3",
   "version": "3.9.13"
  }
 },
 "nbformat": 4,
 "nbformat_minor": 5
}
